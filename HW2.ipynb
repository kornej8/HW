{
 "cells": [
  {
   "cell_type": "code",
   "execution_count": 9,
   "id": "5cd191f0",
   "metadata": {},
   "outputs": [
    {
     "data": {
      "text/plain": [
       "99"
      ]
     },
     "execution_count": 9,
     "metadata": {},
     "output_type": "execute_result"
    }
   ],
   "source": [
    "spisok=[1,[1,2,3,[1,99],5],3,4,5,6,7,8,9]\n",
    "spisok[1][3][1]"
   ]
  },
  {
   "cell_type": "code",
   "execution_count": 2,
   "id": "7e5c1410",
   "metadata": {},
   "outputs": [
    {
     "name": "stdout",
     "output_type": "stream",
     "text": [
      "Введи первое число: 600\n",
      "Введи второе число: 1012\n",
      "Все общие делители:  [1, 2, 4]\n",
      "НОД:  4\n"
     ]
    }
   ],
   "source": [
    "ods = []\n",
    "a = int(input('Введи первое целое число: '))\n",
    "b = int(input('Введи второе целое число: '))\n",
    "i = 1\n",
    "while i <= a or i <= b:\n",
    "    if a%i == 0 and b%i == 0:\n",
    "        ods.append(i)\n",
    "    i +=1\n",
    "print('Все общие делители: ', ods)\n",
    "max_nod = max(ods)    \n",
    "print('НОД: ', max_nod)"
   ]
  },
  {
   "cell_type": "code",
   "execution_count": 3,
   "id": "721c681a",
   "metadata": {},
   "outputs": [
    {
     "name": "stdout",
     "output_type": "stream",
     "text": [
      "Введите номер месяца, который хотите узнать: 1\n",
      "Месяц, который ты ищешь:  Январь\n"
     ]
    }
   ],
   "source": [
    "months = ['Январь', 'Февраль', 'Март','Апрель', 'Май', 'Июнь', 'Июль', 'Август', 'Сентябрь', 'Октябрь', 'Ноябрь', 'Декабрь']\n",
    "a = int(input('Введите номер месяца, который хотите узнать: '))\n",
    "if a <= 12 and a >= 1:\n",
    "    a = a-1\n",
    "    print('Месяц, который ты ищешь: ', months[a])\n",
    "else:\n",
    "    print('У нас всего 12 месяцев, попробуй еще')\n",
    "    "
   ]
  },
  {
   "cell_type": "code",
   "execution_count": 6,
   "id": "661d41fd",
   "metadata": {},
   "outputs": [
    {
     "name": "stdout",
     "output_type": "stream",
     "text": [
      "Введите имя файла: Моя диссертац.gif\n",
      "Допустимое расширение\n"
     ]
    }
   ],
   "source": [
    "file=input('Введите имя файла: ')\n",
    "fileSplit = file.split(\".\")\n",
    "ext = fileSplit[len(fileSplit)-1]\n",
    "extensions = ['png', 'jpg', 'jpeg', 'gif', 'svg']\n",
    "if ext in extensions:\n",
    "    print(\"Допустимое расширение\")\n",
    "else:\n",
    "    print(\"Недопустимое расширение\")"
   ]
  },
  {
   "cell_type": "code",
   "execution_count": 8,
   "id": "18623209",
   "metadata": {},
   "outputs": [
    {
     "name": "stdout",
     "output_type": "stream",
     "text": [
      "Введите год: 2022\n",
      "2022 - год невисокосный\n"
     ]
    }
   ],
   "source": [
    "year = int(input('Введите год: '))\n",
    "if year%400 == 0:\n",
    "    print(year, '- год високосный')\n",
    "elif year%100 == 0:\n",
    "    print(year, '- год невисокосный')\n",
    "elif year%4 == 0:\n",
    "    print(year, '- год високосный')\n",
    "else: \n",
    "    print(year, '- год невисокосный')"
   ]
  },
  {
   "cell_type": "code",
   "execution_count": null,
   "id": "fc346eba",
   "metadata": {},
   "outputs": [],
   "source": []
  }
 ],
 "metadata": {
  "kernelspec": {
   "display_name": "Python 3 (ipykernel)",
   "language": "python",
   "name": "python3"
  },
  "language_info": {
   "codemirror_mode": {
    "name": "ipython",
    "version": 3
   },
   "file_extension": ".py",
   "mimetype": "text/x-python",
   "name": "python",
   "nbconvert_exporter": "python",
   "pygments_lexer": "ipython3",
   "version": "3.9.13"
  }
 },
 "nbformat": 4,
 "nbformat_minor": 5
}
