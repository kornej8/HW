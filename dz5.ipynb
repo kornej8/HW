{
 "cells": [
  {
   "cell_type": "code",
   "execution_count": 20,
   "id": "77bc0ee7",
   "metadata": {},
   "outputs": [
    {
     "name": "stdout",
     "output_type": "stream",
     "text": [
      "Введи фамилию и оценку (для завершения оставь пустую строку): Петров И. 3\n",
      "Введи фамилию и оценку (для завершения оставь пустую строку): Дмитриев Н. 2\n",
      "Введи фамилию и оценку (для завершения оставь пустую строку): Смирнова О. 4\n",
      "Введи фамилию и оценку (для завершения оставь пустую строку): Керченских В. 5\n",
      "Введи фамилию и оценку (для завершения оставь пустую строку): Котов Д. 2\n",
      "Введи фамилию и оценку (для завершения оставь пустую строку): Бирюкова Н. 1\n",
      "Введи фамилию и оценку (для завершения оставь пустую строку): Данилов П. 3\n",
      "Введи фамилию и оценку (для завершения оставь пустую строку): Аранских В. 5\n",
      "Введи фамилию и оценку (для завершения оставь пустую строку): Лемонов Ю. 2\n",
      "Введи фамилию и оценку (для завершения оставь пустую строку): Олегова К. 4\n",
      "Введи фамилию и оценку (для завершения оставь пустую строку): \n",
      "Конец записи\n",
      "Петров И. 3\n",
      "Дмитриев Н. 2\n",
      "Смирнова О. 4\n",
      "Керченских В. 5\n",
      "Котов Д. 2\n",
      "Бирюкова Н. 1\n",
      "Данилов П. 3\n",
      "Аранских В. 5\n",
      "Лемонов Ю. 2\n",
      "Олегова К. 4\n",
      "\n",
      "Проверка закончена\n",
      "\n",
      "Средний балл равен: 3.1\n",
      "Список отстающих учеников: \n",
      "Петров И. \n",
      "Дмитриев Н. \n",
      "Котов Д. \n",
      "Бирюкова Н. \n",
      "Данилов П. \n",
      "Лемонов Ю. \n"
     ]
    }
   ],
   "source": [
    "import statistics\n",
    "\n",
    "temp_to_write = []\n",
    "\n",
    "with open('grades.txt', 'w', encoding = 'utf-8') as file:\n",
    "    grade = 'temp'\n",
    "    while grade!='':\n",
    "        grade = input('Введи фамилию и оценку (для завершения оставь пустую строку): ')\n",
    "        if grade!='':\n",
    "            temp_to_write.append(grade+'\\n')\n",
    "        \n",
    "    file.writelines(temp_to_write)\n",
    "    temp_to_write=[]\n",
    "    print('Конец записи')\n",
    "    \n",
    "with open('grades.txt', 'r', encoding = 'utf-8') as file:\n",
    "    text = file.read()\n",
    "    print(text)\n",
    "print('Проверка закончена\\n')\n",
    "\n",
    "grades_dict = {}\n",
    "with open('grades.txt', 'r', encoding = 'utf-8') as file:\n",
    "    for line in file:\n",
    "        student = ''\n",
    "        temp_student = line.split()[:-1]\n",
    "        for elem in temp_student:\n",
    "            student+=elem\n",
    "            student+=' '\n",
    "        grade = int(line.split()[-1])\n",
    "\n",
    "        grades_dict[student] = grade\n",
    "\n",
    "all_grades = list(grades_dict.values())\n",
    "mean_grade = statistics.mean(all_grades)\n",
    "\n",
    "print(f'Средний балл равен: {mean_grade}')\n",
    "\n",
    "print('Список отстающих учеников: ')\n",
    "for student in grades_dict:\n",
    "    if grades_dict[student]<mean_grade:\n",
    "        print(student)"
   ]
  },
  {
   "cell_type": "code",
   "execution_count": 55,
   "id": "8d6e8f80",
   "metadata": {},
   "outputs": [
    {
     "name": "stdout",
     "output_type": "stream",
     "text": [
      "Понедельник\n",
      "\tФизика (лекц.)\n",
      "\tФизика (лаб.)\n",
      "\tАлгебра (практ.)\n",
      " \n",
      "Вторник\n",
      "\tГеометрия (лекц.)\n",
      "\tФизика (практ.)\n",
      "\tФизика (лаб.)\n",
      "\tФизкультура (практ.)\n",
      "Проверка закончена\n",
      "\n"
     ]
    },
    {
     "data": {
      "text/plain": [
       "{'лекц': 2, 'лаб': 2, 'практ': 3}"
      ]
     },
     "execution_count": 55,
     "metadata": {},
     "output_type": "execute_result"
    }
   ],
   "source": [
    "with open('raspisanie.txt', 'r', encoding = 'utf-8') as file:\n",
    "    text = file.read()\n",
    "    print(text)\n",
    "print('Проверка закончена\\n')\n",
    "\n",
    "temp_dict = {}\n",
    "with open('raspisanie.txt', 'r', encoding = 'utf-8') as file:\n",
    "    for line in file:\n",
    "        if len(line.split())>1:\n",
    "            subject_type = line.split()[-1]\n",
    "            subject_type = subject_type[1:-2]\n",
    "            if subject_type  in temp_dict.keys():\n",
    "                temp_dict[subject_type]+=1\n",
    "            else:\n",
    "                temp_dict[subject_type]=1\n",
    "temp_dict"
   ]
  },
  {
   "cell_type": "code",
   "execution_count": 56,
   "id": "c32c6106",
   "metadata": {},
   "outputs": [
    {
     "name": "stdout",
     "output_type": "stream",
     "text": [
      "dz4.ipynb\n",
      "dz5.ipynb\n",
      "grades.txt\n",
      "raspisanie.txt\n",
      "Untitled.ipynb\n",
      "Untitled1.ipynb\n",
      "Untitled2.ipynb\n",
      "dz4-checkpoint.ipynb\n",
      "dz5-checkpoint.ipynb\n",
      "Untitled-checkpoint.ipynb\n",
      "Untitled1-checkpoint.ipynb\n",
      "Untitled2-checkpoint.ipynb\n"
     ]
    }
   ],
   "source": [
    "import os\n",
    "for root, dirs, files in os.walk(\".\"):  \n",
    "    for filename in files:\n",
    "        print(filename)"
   ]
  },
  {
   "cell_type": "code",
   "execution_count": 73,
   "id": "f6d63435",
   "metadata": {},
   "outputs": [
    {
     "name": "stdout",
     "output_type": "stream",
     "text": [
      "Введите текст: Варкалось. Хливкие шорьки Пырялись по наве, И хрюкотали зелюки, Как мюмзики в мове.  О, бойся Бармаглота, сын! Он так свирлеп и дик! А в глу́ше ры́мит исполин — Злопастный Брандашмыг!  Но взял он меч, и взял он щит, Высоких полон дум. В глущобу путь его лежит Под дерево Тумтум.  Он стал под дерево и ждёт. И вдруг граахнул гром — Летит ужасный Бармаглот И пылкает огнём!  Раз-два, раз-два! Горит трава, Взы-взы — стрижает меч, Ува! Ува! И голова Барабардает с плеч!  О светозарный мальчик мой! Ты победил в бою! О храброславленный герой, Хвалу тебе пою!  Варкалось. Хливкие шорьки Пырялись по наве. И хрюкотали зелюки, Как мюмзики в мове.\n",
      "Количество букв в слове(-ах) максимальной длины:  16  Слово(-а):  храброславленный\n",
      "Частота самого(-ых) встречаемого(-ых) слов:  7.4074074074074066  Слово(-а):  и\n"
     ]
    }
   ],
   "source": [
    "text = input('Введите текст: ')\n",
    "\n",
    "\n",
    "\n",
    "def tokenizer_upgrade(phrase=None):\n",
    "    if phrase==None:\n",
    "        phrase = input('Введите фразу для её токенизации: ')\n",
    "    phrase = phrase.lower()\n",
    "    basic_to_reaplace = ['.',',','?','!',';',':', '\\n']\n",
    "    for elem in basic_to_reaplace:\n",
    "        phrase = phrase.replace(elem, ' ')\n",
    "    tokenized = phrase.split(' ')\n",
    "    tokenized = [word for word in tokenized if word != '']\n",
    "    \n",
    "    tokenized_dict = dict.fromkeys(tokenized)\n",
    "    \n",
    "    \n",
    "    \n",
    "    for token in tokenized:\n",
    "        tokenized_dict[token] = [tokenized.count(token)/len(tokenized)*100,len(token)]\n",
    "\n",
    "    return tokenized_dict\n",
    "\n",
    "def find_word_max_length(some_dict):\n",
    "    max_length = 0\n",
    "    words_max_length = []\n",
    "    \n",
    "    for key in some_dict.keys():\n",
    "        if some_dict[key][1]>=max_length:\n",
    "            max_length = some_dict[key][1]\n",
    "            \n",
    "    for key in some_dict.keys():\n",
    "        if some_dict[key][1]==max_length:\n",
    "            words_max_length.append(key)\n",
    "    \n",
    "    return words_max_length, max_length\n",
    "\n",
    "def find_word_max_freq(some_dict):\n",
    "    max_freq = 0\n",
    "    words_max_freq = []\n",
    "    \n",
    "    for key in some_dict.keys():\n",
    "        if some_dict[key][0]>=max_freq:\n",
    "            max_freq = some_dict[key][0]\n",
    "            \n",
    "    for key in some_dict.keys():\n",
    "        if some_dict[key][0]==max_freq:\n",
    "            words_max_freq.append(key)\n",
    "    \n",
    "    return words_max_freq, max_freq\n",
    "\n",
    "result_dict = tokenizer_upgrade(text)\n",
    "max_len_words, max_len = find_word_max_length(result_dict)\n",
    "max_freq_words, max_freq = find_word_max_freq(result_dict)\n",
    "\n",
    "print('Количество букв в слове(-ах) максимальной длины: ',max_len, ' Слово(-а): ', *max_len_words, )\n",
    "print('Частота самого(-ых) встречаемого(-ых) слов: ',max_freq, ' Слово(-а): ', *max_freq_words, )"
   ]
  },
  {
   "cell_type": "code",
   "execution_count": null,
   "id": "6f176335",
   "metadata": {},
   "outputs": [],
   "source": []
  },
  {
   "cell_type": "code",
   "execution_count": null,
   "id": "3f6ca9ab",
   "metadata": {},
   "outputs": [],
   "source": []
  }
 ],
 "metadata": {
  "kernelspec": {
   "display_name": "Python 3 (ipykernel)",
   "language": "python",
   "name": "python3"
  },
  "language_info": {
   "codemirror_mode": {
    "name": "ipython",
    "version": 3
   },
   "file_extension": ".py",
   "mimetype": "text/x-python",
   "name": "python",
   "nbconvert_exporter": "python",
   "pygments_lexer": "ipython3",
   "version": "3.9.13"
  }
 },
 "nbformat": 4,
 "nbformat_minor": 5
}
