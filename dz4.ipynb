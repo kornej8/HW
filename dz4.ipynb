{
 "cells": [
  {
   "cell_type": "code",
   "execution_count": 30,
   "id": "37ec0268",
   "metadata": {},
   "outputs": [
    {
     "name": "stdout",
     "output_type": "stream",
     "text": [
      "5.0\n",
      "5.0\n"
     ]
    }
   ],
   "source": [
    "def koren(x, n = 2):\n",
    "    return x**(1/n)\n",
    "\n",
    "print(round(koren(125,3),3))\n",
    "print(round(koren(25),3))"
   ]
  },
  {
   "cell_type": "code",
   "execution_count": 43,
   "id": "c8a1c01a",
   "metadata": {},
   "outputs": [
    {
     "name": "stdout",
     "output_type": "stream",
     "text": [
      "Введите имя файла dasdas.svg\n",
      "Допустимое расширение файла\n",
      "Введите имя файла Моядиссертация.dsa\n",
      "Недопустимое расширение файла\n"
     ]
    }
   ],
   "source": [
    "extensions = ['png', 'jpg', 'jpeg', 'gif', 'svg']\n",
    "def exts(ext):\n",
    "    fileSplit = file.split(\".\")\n",
    "    ext = fileSplit[len(fileSplit)-1]\n",
    "    if ext in extensions:\n",
    "        print('Допустимое расширение файла')\n",
    "    else:\n",
    "        print('Недопустимое расширение файла')\n",
    "\n",
    "file=input('Введите имя файла ')\n",
    "exts(ext)\n",
    "file=input('Введите имя файла ')\n",
    "exts(ext)"
   ]
  },
  {
   "cell_type": "code",
   "execution_count": 45,
   "id": "3547b93e",
   "metadata": {},
   "outputs": [
    {
     "name": "stdout",
     "output_type": "stream",
     "text": [
      "{1: 10, 2: 20, 3: 30, 4: 40, 5: 50, 6: 60}\n"
     ]
    }
   ],
   "source": [
    "dict_a = {1:10, 2:20}\n",
    "dict_b = {3:30, 4:40}\n",
    "dict_c = {5:50, 6:60}\n",
    "dict_abc = {}\n",
    "dict_abc.update(dict_a)\n",
    "dict_abc.update(dict_b)\n",
    "dict_abc.update(dict_c)\n",
    "print(dict_abc)"
   ]
  },
  {
   "cell_type": "code",
   "execution_count": 96,
   "id": "d16330d9",
   "metadata": {},
   "outputs": [
    {
     "name": "stdout",
     "output_type": "stream",
     "text": [
      "Введи число 136261019911\n",
      "40\n"
     ]
    }
   ],
   "source": [
    "def summer(n):\n",
    "    a = 0\n",
    "    while n > 0:\n",
    "        a = a+n%10\n",
    "        n = n//10\n",
    "    return a\n",
    "\n",
    "n = int(input('Введи число '))\n",
    "print(summer(n))\n"
   ]
  },
  {
   "cell_type": "code",
   "execution_count": 106,
   "id": "7d4fb0a0",
   "metadata": {},
   "outputs": [
    {
     "name": "stdout",
     "output_type": "stream",
     "text": [
      "Значение уникальны\n"
     ]
    }
   ],
   "source": [
    "numbers=[1,4,5]\n",
    "def porverka(numbers):\n",
    "    if len(numbers) == len(set(numbers)):\n",
    "        print('Значение уникальны')\n",
    "    else:\n",
    "        print('Не уникально')\n",
    "porverka(numbers)"
   ]
  },
  {
   "cell_type": "code",
   "execution_count": 200,
   "id": "e8c35439",
   "metadata": {},
   "outputs": [
    {
     "name": "stdout",
     "output_type": "stream",
     "text": [
      "НОМЕР 0 --> hel\n",
      "НОМЕР 1 --> lo,\n",
      "НОМЕР 2 --> wor\n",
      "НОМЕР 3 --> ld\n",
      "НОМЕР 4 --> !\n",
      "НОМЕР 5 --> :\n",
      "НОМЕР 6 --> )\n"
     ]
    }
   ],
   "source": [
    "def printer(list):\n",
    "    i=0\n",
    "    while i < len(list):\n",
    "        name = list[i]\n",
    "        print(f\"НОМЕР {list.index(name)} --> {name}\")\n",
    "        i=i+1\n",
    "        \n",
    "printer((\"hel\", \"lo,\", \"wor\", \"ld\", \"!\", \":\",\")\"))    "
   ]
  },
  {
   "cell_type": "code",
   "execution_count": 203,
   "id": "64194487",
   "metadata": {},
   "outputs": [
    {
     "name": "stdout",
     "output_type": "stream",
     "text": [
      "Ключ key1 --> 2\n",
      "Ключ key3 --> False\n",
      "Ключ Приветствие --> Hello\n"
     ]
    }
   ],
   "source": [
    "def printer_dict(dict):\n",
    "    for key, value in dict.items():\n",
    "         print(f'Ключ {key} --> {value}')\n",
    "            \n",
    "printer_dict({\"key1\": 2, \"key3\": False, \"Приветствие\": \"Hello\"})"
   ]
  },
  {
   "cell_type": "code",
   "execution_count": 205,
   "id": "e867382c",
   "metadata": {},
   "outputs": [],
   "source": [
    "def print_overlord(dict):\n",
    "    if type(dict) is list:\n",
    "        printer(mydict)\n",
    "    elif type(dict) is dict:\n",
    "        printer_dict(dict)\n",
    "    else:\n",
    "        print(dict)"
   ]
  }
 ],
 "metadata": {
  "kernelspec": {
   "display_name": "Python 3 (ipykernel)",
   "language": "python",
   "name": "python3"
  },
  "language_info": {
   "codemirror_mode": {
    "name": "ipython",
    "version": 3
   },
   "file_extension": ".py",
   "mimetype": "text/x-python",
   "name": "python",
   "nbconvert_exporter": "python",
   "pygments_lexer": "ipython3",
   "version": "3.9.13"
  }
 },
 "nbformat": 4,
 "nbformat_minor": 5
}
