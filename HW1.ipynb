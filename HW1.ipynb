{
 "cells": [
  {
   "cell_type": "code",
   "execution_count": 6,
   "id": "2da27f5b",
   "metadata": {},
   "outputs": [
    {
     "name": "stdout",
     "output_type": "stream",
     "text": [
      "0:2:46:40\n"
     ]
    }
   ],
   "source": [
    "seconds=10000\n",
    "min=seconds%60\n",
    "min_1=seconds//60\n",
    "min=min_1%60\n",
    "hrs_1=min_1//60\n",
    "hrs=hrs_1%60\n",
    "day=hrs_1//24\n",
    "print(day, hrs, min, sec, sep=':')\n"
   ]
  },
  {
   "cell_type": "code",
   "execution_count": 8,
   "id": "187d34c5",
   "metadata": {},
   "outputs": [
    {
     "name": "stdout",
     "output_type": "stream",
     "text": [
      "Введите число: 2\n",
      "Введите оператор: +\n",
      "Введите число: 2\n",
      "Твой результат:  4\n"
     ]
    }
   ],
   "source": [
    "a = int(input(\"Введите число: \"))\n",
    "opr = input(\"Введите оператор: \")\n",
    "b = int(input(\"Введите число: \"))\n",
    "if (opr == '+'):\n",
    "    print('Твой результат: ', a+b)\n",
    "elif (opr == '-'):\n",
    "    print('Твой результат: ', a-b)\n",
    "elif (opr == '/'):\n",
    "    print('Твой результат: ', a/b)\n",
    "elif (opr == '*'):\n",
    "    print('Твой результат: ', a*b)\n",
    "else:\n",
    "    print(\"Некорректный оператор\")"
   ]
  },
  {
   "cell_type": "code",
   "execution_count": 1,
   "id": "39c93200",
   "metadata": {},
   "outputs": [
    {
     "name": "stdout",
     "output_type": "stream",
     "text": [
      "1\n",
      "2\n",
      "1$2\n",
      "1$2\n"
     ]
    }
   ],
   "source": [
    "a = input()\n",
    "b = input()\n",
    "print(f\"{a}${b}\")\n",
    "print(a, b, sep=\"$\")"
   ]
  },
  {
   "cell_type": "code",
   "execution_count": 11,
   "id": "bba9a10d",
   "metadata": {},
   "outputs": [
    {
     "name": "stdout",
     "output_type": "stream",
     "text": [
      "Введите имя: Федя\n",
      "Введите Ваш возраст: 2\n",
      "Поздравляю с днем рождения,  Федя !\n"
     ]
    }
   ],
   "source": [
    "name = input('Введите имя: ')\n",
    "age = int(input('Введите Ваш возраст: '))\n",
    "print('Поздравляю! С твоим днем рождения, ', name, '!')"
   ]
  },
  {
   "cell_type": "code",
   "execution_count": 14,
   "id": "2f5333ef",
   "metadata": {},
   "outputs": [
    {
     "name": "stdout",
     "output_type": "stream",
     "text": [
      "Введите имя: Федя\n",
      "Введите Ваш возраст: 22\n",
      "Поздравляю с днем рожденияm,  Федя !\n",
      "Поздравляю с днем рожденияm,  Федя !\n",
      "Поздравляю с днем рожденияm,  Федя !\n",
      "Поздравляю с днем рожденияm,  Федя !\n",
      "Поздравляю с днем рожденияm,  Федя !\n",
      "Поздравляю с днем рожденияm,  Федя !\n",
      "Поздравляю с днем рожденияm,  Федя !\n",
      "Поздравляю с днем рожденияm,  Федя !\n",
      "Поздравляю с днем рожденияm,  Федя !\n",
      "Поздравляю с днем рожденияm,  Федя !\n",
      "Поздравляю с днем рожденияm,  Федя !\n",
      "Поздравляю с днем рожденияm,  Федя !\n",
      "Поздравляю с днем рожденияm,  Федя !\n",
      "Поздравляю с днем рожденияm,  Федя !\n",
      "Поздравляю с днем рожденияm,  Федя !\n",
      "Поздравляю с днем рожденияm,  Федя !\n",
      "Поздравляю с днем рожденияm,  Федя !\n",
      "Поздравляю с днем рожденияm,  Федя !\n",
      "Поздравляю с днем рожденияm,  Федя !\n",
      "Поздравляю с днем рожденияm,  Федя !\n",
      "Поздравляю с днем рожденияm,  Федя !\n",
      "Поздравляю с днем рожденияm,  Федя !\n"
     ]
    }
   ],
   "source": [
    "name = input('Введите имя: ')\n",
    "age = int(input('Введите Ваш возраст: '))\n",
    "for i in range(age):\n",
    "    print('Поздравляю с днем рожденияm, ', name, '!')"
   ]
  },
  {
   "cell_type": "code",
   "execution_count": null,
   "id": "1f638e02",
   "metadata": {},
   "outputs": [],
   "source": []
  }
 ],
 "metadata": {
  "kernelspec": {
   "display_name": "Python 3 (ipykernel)",
   "language": "python",
   "name": "python3"
  },
  "language_info": {
   "codemirror_mode": {
    "name": "ipython",
    "version": 3
   },
   "file_extension": ".py",
   "mimetype": "text/x-python",
   "name": "python",
   "nbconvert_exporter": "python",
   "pygments_lexer": "ipython3",
   "version": "3.9.13"
  }
 },
 "nbformat": 4,
 "nbformat_minor": 5
}
