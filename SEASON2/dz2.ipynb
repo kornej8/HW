{
 "cells": [
  {
   "cell_type": "code",
   "execution_count": 36,
   "id": "e20da176",
   "metadata": {},
   "outputs": [
    {
     "name": "stdout",
     "output_type": "stream",
     "text": [
      "Accuracy: 0.8629032258064516\n"
     ]
    }
   ],
   "source": [
    "import pandas as pd\n",
    "from sklearn import datasets, linear_model\n",
    "from sklearn.metrics import confusion_matrix\n",
    "def get_data():\n",
    "    f = \"C:\\\\Users\\\\delux\\\\Desktop\\\\data\\\\athletes_sochi.csv\"\n",
    "    dfs = pd.read_csv(f).dropna()\n",
    "    dfs[\"BMI\"] = dfs[\"weight\"] / (dfs[\"height\"] ** 2)\n",
    "    alldata = dfs[['age', 'weight', 'height', 'BMI', 'gender']]\n",
    "    alldata = alldata.sample(frac=1)\n",
    "    allinput = alldata[['age', 'weight', 'height', 'BMI']]\n",
    "    alloutput = alldata[\"gender\"].apply(lambda x: int(x == \"Male\"))\n",
    "    return alldata, allinput, alloutput\n",
    "\n",
    "\n",
    "def predict(alldata, allinput, alloutput):\n",
    "    chunk_80 = int(len(alldata) * 0.8)\n",
    "    X_train = allinput[:chunk_80]\n",
    "    Y_train = alloutput[:chunk_80]\n",
    "    X_test = allinput[chunk_80:]\n",
    "    Y_test = alloutput[chunk_80:]\n",
    "    model = linear_model.LogisticRegression()\n",
    "    model.fit(X_train, Y_train)\n",
    "    Y_test_predicted = model.predict(X_test)\n",
    "    print_accuracy(Y_test, Y_test_predicted)\n",
    "\n",
    "\n",
    "def print_accuracy(Y_test, Y_test_predicted):\n",
    "    [tn, fp], [fn, tp] = confusion_matrix(Y_test, Y_test_predicted)\n",
    "    accuracy = (tn + tp) / (tp + fp + tn + fn)\n",
    "    print(f\"Accuracy: {accuracy}\")\n",
    "    return accuracy\n",
    "\n",
    "\n",
    "alldata, allinput, alloutput = get_data()\n",
    "predict(alldata, allinput, alloutput)\n"
   ]
  },
  {
   "cell_type": "code",
   "execution_count": null,
   "id": "f4d81851",
   "metadata": {},
   "outputs": [],
   "source": []
  },
  {
   "cell_type": "code",
   "execution_count": null,
   "id": "2840c8b8",
   "metadata": {},
   "outputs": [],
   "source": []
  }
 ],
 "metadata": {
  "kernelspec": {
   "display_name": "Python 3 (ipykernel)",
   "language": "python",
   "name": "python3"
  },
  "language_info": {
   "codemirror_mode": {
    "name": "ipython",
    "version": 3
   },
   "file_extension": ".py",
   "mimetype": "text/x-python",
   "name": "python",
   "nbconvert_exporter": "python",
   "pygments_lexer": "ipython3",
   "version": "3.9.13"
  }
 },
 "nbformat": 4,
 "nbformat_minor": 5
}
